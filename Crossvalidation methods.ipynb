{
 "cells": [
  {
   "cell_type": "markdown",
   "id": "044220a0",
   "metadata": {},
   "source": [
    "Method for leave-one-out cross validation.\n",
    "Accepts inputdata, outputdata and model to be fitted to training data as parameters. Return predicted output labels."
   ]
  },
  {
   "cell_type": "code",
   "execution_count": 1,
   "id": "aed49a72",
   "metadata": {},
   "outputs": [],
   "source": [
    "#Accept inputdata, outputdata and model to be fitted training data as parameters. Return predicted output values.\n",
    "\n",
    "def leaveone (inputdata, outputdata, model):\n",
    "    x_training = inputdata.copy()\n",
    "    y_training = outputdata.copy()\n",
    "    y_preds = []\n",
    "    y_trues = []\n",
    "    datasize = len(inputdata)\n",
    "    for i in range (0, datasize):\n",
    "        x_training = inputdata.drop(inputdata.index[i])\n",
    "        x_test = inputdata.iloc[i]\n",
    "        y_training = outputdata.drop(outputdata.index[i])\n",
    "        y_test = outputdata.iloc[i]\n",
    "        model.fit(x_training, y_training)\n",
    "        y_pred = neigh.predict(np.array(x_test).reshape(1,-1))\n",
    "        y_preds.append(y_pred)\n",
    "        y_trues.append(y_test)\n",
    "    return y_preds"
   ]
  },
  {
   "cell_type": "markdown",
   "id": "c688cb12",
   "metadata": {},
   "source": [
    "Method for leave-group-out cross validation\n",
    "In this leave-group-out crossvalidation each group has 4 instances and they have been sorted so that the 4 are always together with indexs 0-3 having one group, index 4-7 other group and so on.\n",
    "Return predicted outputdata labels."
   ]
  },
  {
   "cell_type": "code",
   "execution_count": 5,
   "id": "56fcaa66",
   "metadata": {},
   "outputs": [],
   "source": [
    "#In this leave-group-out crossvalidation each group has 4 instances and they have been sorted so that the 4 are always together with indexs 0-3 having one group, index 4-7 other group and so on\n",
    "#return predicted outputdata labels\n",
    "def leavegroup (inputdata, outputdata, model):\n",
    "    y_preds = []\n",
    "    y_trues = []\n",
    "    for i in range (0, len(grouped), 4):\n",
    "        \n",
    "        y_training = outputdata.copy()\n",
    "        x_training = inputdata.copy()\n",
    "        \n",
    "        valuex1 = inputdata.iloc[i]\n",
    "        valuex2 = inputdata.iloc[i+1]\n",
    "        valuex3 = inputdata.iloc[i+2]\n",
    "        valuex4 = inputdata.iloc[i+3]\n",
    "        \n",
    "        valuey1 = outputdata.iloc[i]\n",
    "        valuey2 = outputdata.iloc[i+1]\n",
    "        valuey3 = outputdata.iloc[i+2]\n",
    "        valuey4 = outputdata.iloc[i+3]\n",
    "        \n",
    "        x_test = [valuex1, valuex2, valuex3, valuex4]\n",
    "        y_test = [valuey1, valuey2, valuey3, valuey4]\n",
    "        y_training = outputdata.drop(outputdata.index[i:i+4])\n",
    "        x_training = inputdata.drop(inputdata.index[i:i+4])\n",
    "        y_training2 = np.array(y_training).reshape(-1,1)\n",
    "        model.fit(x_training, y_training2)\n",
    "        y_pred = neigh.predict(np.array(x_test))\n",
    "        y_preds.extend(y_pred.tolist())\n",
    "        y_trues.extend(y_test)\n",
    "    \n",
    "    return y_preds"
   ]
  },
  {
   "cell_type": "markdown",
   "id": "5e4c05a9",
   "metadata": {},
   "source": [
    "Methods for spatial leave-one-out crossvalidation.\n",
    "Spatialleaveone accepts inputdata, outputdata, coordinates, maxdistance and model as parameters. Return predicted output labels.\n",
    "\n",
    "Calculatedistance takes two coordinates and calculates the distance between them. Returns the result.\n",
    "\n",
    "Excludetraining accepts trainingset and list of index values that determine which data points of certain indexes will be omitted from training set. Returns a new training set."
   ]
  },
  {
   "cell_type": "code",
   "execution_count": 7,
   "id": "9ff30d56",
   "metadata": {},
   "outputs": [],
   "source": [
    "import numpy as np\n",
    "\n",
    "def spatialleaveone (inputdata, outputdata, coordinates, maxdistance, model):\n",
    "    y_preds = list()\n",
    "    y_trues = list()\n",
    "    datasize = len(inputdata)\n",
    "    trainingsize = (datasize -1)\n",
    "    for i in range (datasize):\n",
    "        excluded = list()\n",
    "        x_training = inputdata.copy()\n",
    "        y_training = outputdata.copy()\n",
    "        x_test = inputdata.iloc[i]\n",
    "        y_test = outputdata.iloc[i]\n",
    "        xcoord = coordinates.iloc[i]\n",
    "        x_training = inputdata.drop(inputdata.index[i])\n",
    "        y_training = outputdata.drop(outputdata.index[i])\n",
    "        coordinatesd = coordinates.drop(coordinates.index[i])\n",
    "        for k in range (trainingsize):\n",
    "            ycoord = coordinatesd.iloc[k]\n",
    "            distance = calculatedistance(xcoord, ycoord)\n",
    "            if (distance <= maxdistance):\n",
    "                excluded.append(k)\n",
    "        x_training1 = excludetraining(x_training, excluded)\n",
    "        y_training1 = excludetraining(y_training, excluded)\n",
    "        model.fit(x_training1, y_training1)\n",
    "        y_pred = neigh.predict(np.array(x_test).reshape(1,-1))\n",
    "        y_preds.extend(y_pred.tolist())\n",
    "        y_trues.extend(y_test.values.tolist())\n",
    "    return y_preds\n",
    "\n",
    "def calculatedistance (coordinate1, coordinate2):\n",
    "    xcoord = coordinate1.to_numpy()\n",
    "    ycoord = coordinate2.to_numpy()\n",
    "    distance = np.linalg.norm(xcoord-ycoord)\n",
    "    return distance\n",
    "\n",
    "def excludetraining (trainingset, excluded):\n",
    "    training = trainingset.copy()\n",
    "    excludelist = excluded.copy()\n",
    "    training = training.drop(training.index[excludelist])\n",
    "    return training"
   ]
  }
 ],
 "metadata": {
  "kernelspec": {
   "display_name": "Python 3",
   "language": "python",
   "name": "python3"
  },
  "language_info": {
   "codemirror_mode": {
    "name": "ipython",
    "version": 3
   },
   "file_extension": ".py",
   "mimetype": "text/x-python",
   "name": "python",
   "nbconvert_exporter": "python",
   "pygments_lexer": "ipython3",
   "version": "3.8.8"
  }
 },
 "nbformat": 4,
 "nbformat_minor": 5
}
